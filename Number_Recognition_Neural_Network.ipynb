{
  "nbformat": 4,
  "nbformat_minor": 0,
  "metadata": {
    "colab": {
      "name": "Number Recognition Neural Network",
      "provenance": [],
      "collapsed_sections": [],
      "authorship_tag": "ABX9TyP0gSVh2wS0jry5sSyRNNI4",
      "include_colab_link": true
    },
    "kernelspec": {
      "name": "python3",
      "display_name": "Python 3"
    },
    "language_info": {
      "name": "python"
    }
  },
  "cells": [
    {
      "cell_type": "markdown",
      "metadata": {
        "id": "view-in-github",
        "colab_type": "text"
      },
      "source": [
        "<a href=\"https://colab.research.google.com/github/Ballisticdom/Ballisticdom/blob/main/Number_Recognition_Neural_Network.ipynb\" target=\"_parent\"><img src=\"https://colab.research.google.com/assets/colab-badge.svg\" alt=\"Open In Colab\"/></a>"
      ]
    },
    {
      "cell_type": "markdown",
      "source": [
        "# Machine Learning - Number Recognition based on a Neural Network\n",
        "## Dominic Gallelli\n",
        "## dg127@students.uwf.edu\n",
        "## 321-615-6896"
      ],
      "metadata": {
        "id": "uspFDWDGa8Y7"
      }
    },
    {
      "cell_type": "markdown",
      "source": [
        "This code is able to recognize a handwritten number in a 28x28 pixel image of a number."
      ],
      "metadata": {
        "id": "shsFb504a0hf"
      }
    },
    {
      "cell_type": "code",
      "execution_count": null,
      "metadata": {
        "id": "d9SJbfBzYvsX"
      },
      "outputs": [],
      "source": [
        "# Tensorflow to build the Neural Network\n",
        "# Matplotlib to show examples of our data\n",
        "\n",
        "import tensorflow as tf\n",
        "from tensorflow import keras\n",
        "from sklearn.model_selection import train_test_split\n",
        "import matplotlib.pyplot as plt"
      ]
    },
    {
      "cell_type": "code",
      "source": [
        "# Load the data set\n",
        "number_mnist = keras.datasets.mnist\n",
        "\n",
        "# Split into train and test\n",
        "(x_train, y_train), (x_test, y_test) = number_mnist.load_data()\n",
        "\n",
        "# Create a validation data set for the NN\n",
        "x_valid = x_train[:5000]\n",
        "y_valid = y_train[:5000]"
      ],
      "metadata": {
        "id": "SDw7-tRlb-K0"
      },
      "execution_count": null,
      "outputs": []
    },
    {
      "cell_type": "markdown",
      "source": [
        "### Plot a few examples"
      ],
      "metadata": {
        "id": "cygPxUOYo3Lc"
      }
    },
    {
      "cell_type": "code",
      "source": [
        "plt.figure(figsize=(5,5))\n",
        "images = x_train[:5]\n",
        "labels = y_train[:5]\n",
        "\n",
        "for i in range(5):\n",
        "    plt.subplot(5, 5, i + 1)\n",
        "    image = images[i]\n",
        "    plt.imshow(image, cmap='gray')\n",
        "    plt.axis('off')\n",
        "    \n",
        "plt.show()"
      ],
      "metadata": {
        "id": "0Gpilfyzo6TE"
      },
      "execution_count": null,
      "outputs": []
    },
    {
      "cell_type": "markdown",
      "source": [
        "### Build the Neural Network"
      ],
      "metadata": {
        "id": "Mp5ocqc5ivYI"
      }
    },
    {
      "cell_type": "code",
      "source": [
        "# Input layer has 28 * 28 = 784 neurons\n",
        "model = keras.models.Sequential()\n",
        "model.add(keras.layers.Flatten(input_shape= [28, 28]))\n",
        "\n",
        "# hidden layers 300 and 100 neurons each. Activation function choices are relu, sigmoid, https://keras.io/api/layers/activations/ for more info on choices\n",
        "model.add(keras.layers.Dense(300, activation=\"sigmoid\"))\n",
        "model.add(keras.layers.Dense(100, activation=\"sigmoid\"))\n",
        "\n",
        "# Output layer has 10 neurons (digits between 0-9)\n",
        "model.add(keras.layers.Dense(10, activation=\"softmax\"))"
      ],
      "metadata": {
        "id": "UgSMmSE8hxC3"
      },
      "execution_count": null,
      "outputs": []
    },
    {
      "cell_type": "code",
      "source": [
        "model.summary()\n",
        "model.compile(loss=\"sparse_categorical_crossentropy\", optimizer=\"sgd\", metrics=[\"accuracy\"])\n",
        "\n",
        "# epoch = how many times the data will be passed through your network. If all goes well, accuracy and valid_accuracy should increase each time?\n",
        "history = model.fit(x_train, y_train, epochs = 30, validation_data=(x_valid, y_valid))"
      ],
      "metadata": {
        "id": "wJWJLd6Fj3FO"
      },
      "execution_count": null,
      "outputs": []
    },
    {
      "cell_type": "code",
      "source": [
        "# Evaluate our model with the testing data\n",
        "model.evaluate(x_test, y_test)"
      ],
      "metadata": {
        "colab": {
          "base_uri": "https://localhost:8080/"
        },
        "id": "OPtyhfppwyHu",
        "outputId": "0de3cb97-68c8-4e2d-bfc5-a6d457299343"
      },
      "execution_count": null,
      "outputs": [
        {
          "output_type": "stream",
          "name": "stdout",
          "text": [
            "313/313 [==============================] - 1s 2ms/step - loss: 0.1240 - accuracy: 0.9620\n"
          ]
        },
        {
          "output_type": "execute_result",
          "data": {
            "text/plain": [
              "[0.124000683426857, 0.9620000123977661]"
            ]
          },
          "metadata": {},
          "execution_count": 65
        }
      ]
    }
  ]
}